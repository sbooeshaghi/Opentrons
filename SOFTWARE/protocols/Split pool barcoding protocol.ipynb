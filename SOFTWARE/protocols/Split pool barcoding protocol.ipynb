{
 "cells": [
  {
   "cell_type": "markdown",
   "metadata": {},
   "source": [
    "## Split pool barcoding protocol\n",
    "\n",
    "This notebook illustrates the process of making a protocol to run on an opentrons OT-1 robot.\n",
    "More rigorous documentation on this subject can be found [here](https://docs.opentrons.com/ot1/index.html).\n",
    "\n",
    "This particular protocol was made as a first attempt to implement split pool barcoding. An illustration of the robot's movements is given below:\n",
    "\n",
    "<img src=\"https://docs.google.com/drawings/d/1s5QHfnEp51puA-EM0dRq3Lt1DKOwjgXPsQVOSv0aLy8/export/png\" width=\"800\">\n",
    "\n",
    "\n"
   ]
  },
  {
   "cell_type": "markdown",
   "metadata": {},
   "source": [
    "### The protocol:"
   ]
  },
  {
   "cell_type": "code",
   "execution_count": 28,
   "metadata": {},
   "outputs": [
    {
     "data": {
      "text/plain": [
       "<opentrons.instruments.pipette.Pipette at 0x10a8e1668>"
      ]
     },
     "execution_count": 28,
     "metadata": {},
     "output_type": "execute_result"
    }
   ],
   "source": [
    "#BEADPROTOCOL PART 1!\n",
    "\n",
    "\n",
    "from opentrons import containers, instruments\n",
    "\n",
    "\n",
    "# containers\n",
    "hairpinres = containers.load('PCR-strip-tall', 'C3', 'hairpinres')\n",
    "beadres1 = containers.load('PCR-strip-tall', 'C2', 'beadres1')\n",
    "beadres2 = containers.load('PCR-strip-tall', 'D2', 'beadres2')\n",
    "tiprack = containers.load('tiprack-200ul', 'B3','tiprack')\n",
    "trash = containers.load('point', 'B2', 'trash')\n",
    "\n",
    "# pipettes\n",
    "pipette = instruments.Pipette(\n",
    "    axis='a',\n",
    "    channels=8, \n",
    "    max_volume=200, tip_racks=[tiprack],\n",
    "    trash_container=trash)\n",
    "\n",
    "# commands\n",
    "pipette.transfer(200, hairpinres.rows[0:6], beadres1.rows[0:12:2],\n",
    "                 new_tip='always',mix_after=(2, 75))\n",
    "pipette.transfer(200, hairpinres.rows[6:12], beadres2.rows[0:12:2],\n",
    "                 new_tip='always',mix_after=(2, 75))  # mix 2 times with 75uL after dispensing\n"
   ]
  },
  {
   "cell_type": "markdown",
   "metadata": {},
   "source": [
    "### Constructing protocol using Jupyter notebook"
   ]
  },
  {
   "cell_type": "code",
   "execution_count": 29,
   "metadata": {},
   "outputs": [],
   "source": [
    "from opentrons import robot # only for testing in jupyter\n",
    "robot.clear_commands() # only for testing in jupyter"
   ]
  },
  {
   "cell_type": "code",
   "execution_count": 30,
   "metadata": {},
   "outputs": [],
   "source": [
    "from opentrons import containers, instruments"
   ]
  },
  {
   "cell_type": "code",
   "execution_count": 31,
   "metadata": {},
   "outputs": [],
   "source": [
    "# containers\n",
    "hairpinres = containers.load('96-PCR-flat', 'C3', 'hairpinres')\n",
    "beadres1 = containers.load('96-PCR-flat', 'C2', 'beadres1')\n",
    "beadres2 = containers.load('96-PCR-flat', 'D2', 'beadres2')"
   ]
  },
  {
   "cell_type": "markdown",
   "metadata": {},
   "source": [
    "When I used these containers with the robot there was a **collision** because the actual containers were deeper then the ones I initiated here.\n",
    "\n",
    "Conclusion: it is very **important to match the dimensions** of the containers in the code to the actual containers. \n",
    "\n",
    "An overview of the API’s most commonly used built-in containers can be found [here](https://docs.opentrons.com/ot1/containers.html#labware-library). There is also an option to create your own container that is not included in the API using `containers.create()`.\n"
   ]
  },
  {
   "cell_type": "code",
   "execution_count": 32,
   "metadata": {},
   "outputs": [],
   "source": [
    "# containers\n",
    "\n",
    "# hairpinres = containers.load('96-PCR-flat', 'C3', 'hairpinres')\n",
    "# beadres1 = containers.load('96-PCR-flat', 'C2', 'beadres1')\n",
    "# beadres2 = containers.load('96-PCR-flat', 'D2', 'beadres2')\n",
    "hairpinres = containers.load('PCR-strip-tall', 'C3', 'hairpinres')\n",
    "beadres1 = containers.load('PCR-strip-tall', 'C2', 'beadres1')\n",
    "beadres2 = containers.load('PCR-strip-tall', 'D2', 'beadres2')\n",
    "\n",
    "tiprack = containers.load('tiprack-200ul', 'B3','tiprack')\n",
    "trash = containers.load('point', 'B2', 'trash')"
   ]
  },
  {
   "cell_type": "code",
   "execution_count": 33,
   "metadata": {},
   "outputs": [
    {
     "name": "stdout",
     "output_type": "stream",
     "text": [
      "<Container hairpinres> <Container beadres1> <Container beadres2> <Container tiprack> <Container trash>\n"
     ]
    }
   ],
   "source": [
    "print(hairpinres,beadres1,beadres2,tiprack,trash)"
   ]
  },
  {
   "cell_type": "code",
   "execution_count": 34,
   "metadata": {},
   "outputs": [],
   "source": [
    "# pipettes\n",
    "pipette = instruments.Pipette(\n",
    "    axis='a', # 2 possible axes a and b\n",
    "    channels=8, # using the 8-channel pipette\n",
    "    max_volume=200, tip_racks=[tiprack],\n",
    "    trash_container=trash) # option to connect tiprack & trashcontainer to the pipette"
   ]
  },
  {
   "cell_type": "code",
   "execution_count": 35,
   "metadata": {},
   "outputs": [
    {
     "name": "stdout",
     "output_type": "stream",
     "text": [
      "max_volume =  200\n",
      "channels =  8\n",
      "wells hairpin reservoir <WellSeries: <WellSeries: <Well A1><Well B1><Well C1><Well D1><Well E1><Well F1><Well G1><Well H1>><WellSeries: <Well A2><Well B2><Well C2><Well D2><Well E2><Well F2><Well G2><Well H2>>>\n"
     ]
    }
   ],
   "source": [
    "print('max_volume = ', pipette.max_volume)\n",
    "print('channels = ', pipette.channels)\n",
    "print('wells hairpin reservoir', hairpinres.rows[0:2])"
   ]
  },
  {
   "cell_type": "code",
   "execution_count": 36,
   "metadata": {},
   "outputs": [
    {
     "data": {
      "text/plain": [
       "<opentrons.instruments.pipette.Pipette at 0x10a818588>"
      ]
     },
     "execution_count": 36,
     "metadata": {},
     "output_type": "execute_result"
    }
   ],
   "source": [
    "# commands\n",
    "pipette.transfer(200, hairpinres.rows[0:6], beadres1.rows[0:12:2],\n",
    "                 new_tip='always',mix_after=(2, 75)) \n",
    "pipette.transfer(200, hairpinres.rows[6:12], beadres2.rows[0:12:2],\n",
    "                 new_tip='always',mix_after=(2, 75))  # mix 2 times with 75uL after dispensing"
   ]
  },
  {
   "cell_type": "code",
   "execution_count": 37,
   "metadata": {},
   "outputs": [
    {
     "name": "stdout",
     "output_type": "stream",
     "text": [
      "Picking up tip from <WellSeries: <Well A1><Well B1><Well C1><Well D1><Well E1><Well F1><Well G1><Well H1>>\n",
      "Aspirating 200.0 at <WellSeries: <Well A1><Well B1><Well C1><Well D1><Well E1><Well F1><Well G1><Well H1>>\n",
      "Dispensing 200.0 at <WellSeries: <Well A1><Well B1><Well C1><Well D1><Well E1><Well F1><Well G1><Well H1>>\n",
      "Mixing 2 times with a volume of 75ul\n",
      "Aspirating 75 at <WellSeries: <Well A1><Well B1><Well C1><Well D1><Well E1><Well F1><Well G1><Well H1>>\n",
      "Dispensing 75.0 \n",
      "Aspirating 75 \n",
      "Dispensing 75.0 \n",
      "Drop_tip at <Deck><Slot B2><Container trash><Well A1>\n",
      "Picking up tip from <WellSeries: <Well A2><Well B2><Well C2><Well D2><Well E2><Well F2><Well G2><Well H2>>\n",
      "Aspirating 200.0 at <WellSeries: <Well A2><Well B2><Well C2><Well D2><Well E2><Well F2><Well G2><Well H2>>\n",
      "Dispensing 200.0 at <WellSeries: <Well A3><Well B3><Well C3><Well D3><Well E3><Well F3><Well G3><Well H3>>\n",
      "Mixing 2 times with a volume of 75ul\n",
      "Aspirating 75 at <WellSeries: <Well A3><Well B3><Well C3><Well D3><Well E3><Well F3><Well G3><Well H3>>\n",
      "Dispensing 75.0 \n",
      "Aspirating 75 \n",
      "Dispensing 75.0 \n",
      "Drop_tip at <Deck><Slot B2><Container trash><Well A1>\n",
      "Picking up tip from <WellSeries: <Well A3><Well B3><Well C3><Well D3><Well E3><Well F3><Well G3><Well H3>>\n",
      "Aspirating 200.0 at <WellSeries: <Well A3><Well B3><Well C3><Well D3><Well E3><Well F3><Well G3><Well H3>>\n",
      "Dispensing 200.0 at <WellSeries: <Well A5><Well B5><Well C5><Well D5><Well E5><Well F5><Well G5><Well H5>>\n",
      "Mixing 2 times with a volume of 75ul\n",
      "Aspirating 75 at <WellSeries: <Well A5><Well B5><Well C5><Well D5><Well E5><Well F5><Well G5><Well H5>>\n",
      "Dispensing 75.0 \n",
      "Aspirating 75 \n",
      "Dispensing 75.0 \n",
      "Drop_tip at <Deck><Slot B2><Container trash><Well A1>\n",
      "Picking up tip from <WellSeries: <Well A4><Well B4><Well C4><Well D4><Well E4><Well F4><Well G4><Well H4>>\n",
      "Aspirating 200.0 at <WellSeries: <Well A4><Well B4><Well C4><Well D4><Well E4><Well F4><Well G4><Well H4>>\n",
      "Dispensing 200.0 at <WellSeries: <Well A7><Well B7><Well C7><Well D7><Well E7><Well F7><Well G7><Well H7>>\n",
      "Mixing 2 times with a volume of 75ul\n",
      "Aspirating 75 at <WellSeries: <Well A7><Well B7><Well C7><Well D7><Well E7><Well F7><Well G7><Well H7>>\n",
      "Dispensing 75.0 \n",
      "Aspirating 75 \n",
      "Dispensing 75.0 \n",
      "Drop_tip at <Deck><Slot B2><Container trash><Well A1>\n",
      "Picking up tip from <WellSeries: <Well A5><Well B5><Well C5><Well D5><Well E5><Well F5><Well G5><Well H5>>\n",
      "Aspirating 200.0 at <WellSeries: <Well A5><Well B5><Well C5><Well D5><Well E5><Well F5><Well G5><Well H5>>\n",
      "Dispensing 200.0 at <WellSeries: <Well A9><Well B9><Well C9><Well D9><Well E9><Well F9><Well G9><Well H9>>\n",
      "Mixing 2 times with a volume of 75ul\n",
      "Aspirating 75 at <WellSeries: <Well A9><Well B9><Well C9><Well D9><Well E9><Well F9><Well G9><Well H9>>\n",
      "Dispensing 75.0 \n",
      "Aspirating 75 \n",
      "Dispensing 75.0 \n",
      "Drop_tip at <Deck><Slot B2><Container trash><Well A1>\n",
      "Picking up tip from <WellSeries: <Well A6><Well B6><Well C6><Well D6><Well E6><Well F6><Well G6><Well H6>>\n",
      "Aspirating 200.0 at <WellSeries: <Well A6><Well B6><Well C6><Well D6><Well E6><Well F6><Well G6><Well H6>>\n",
      "Dispensing 200.0 at <WellSeries: <Well A11><Well B11><Well C11><Well D11><Well E11><Well F11><Well G11><Well H11>>\n",
      "Mixing 2 times with a volume of 75ul\n",
      "Aspirating 75 at <WellSeries: <Well A11><Well B11><Well C11><Well D11><Well E11><Well F11><Well G11><Well H11>>\n",
      "Dispensing 75.0 \n",
      "Aspirating 75 \n",
      "Dispensing 75.0 \n",
      "Drop_tip at <Deck><Slot B2><Container trash><Well A1>\n",
      "Picking up tip from <WellSeries: <Well A7><Well B7><Well C7><Well D7><Well E7><Well F7><Well G7><Well H7>>\n",
      "Aspirating 200.0 at <WellSeries: <Well A7><Well B7><Well C7><Well D7><Well E7><Well F7><Well G7><Well H7>>\n",
      "Dispensing 200.0 at <WellSeries: <Well A1><Well B1><Well C1><Well D1><Well E1><Well F1><Well G1><Well H1>>\n",
      "Mixing 2 times with a volume of 75ul\n",
      "Aspirating 75 at <WellSeries: <Well A1><Well B1><Well C1><Well D1><Well E1><Well F1><Well G1><Well H1>>\n",
      "Dispensing 75.0 \n",
      "Aspirating 75 \n",
      "Dispensing 75.0 \n",
      "Drop_tip at <Deck><Slot B2><Container trash><Well A1>\n",
      "Picking up tip from <WellSeries: <Well A8><Well B8><Well C8><Well D8><Well E8><Well F8><Well G8><Well H8>>\n",
      "Aspirating 200.0 at <WellSeries: <Well A8><Well B8><Well C8><Well D8><Well E8><Well F8><Well G8><Well H8>>\n",
      "Dispensing 200.0 at <WellSeries: <Well A3><Well B3><Well C3><Well D3><Well E3><Well F3><Well G3><Well H3>>\n",
      "Mixing 2 times with a volume of 75ul\n",
      "Aspirating 75 at <WellSeries: <Well A3><Well B3><Well C3><Well D3><Well E3><Well F3><Well G3><Well H3>>\n",
      "Dispensing 75.0 \n",
      "Aspirating 75 \n",
      "Dispensing 75.0 \n",
      "Drop_tip at <Deck><Slot B2><Container trash><Well A1>\n",
      "Picking up tip from <WellSeries: <Well A9><Well B9><Well C9><Well D9><Well E9><Well F9><Well G9><Well H9>>\n",
      "Aspirating 200.0 at <WellSeries: <Well A9><Well B9><Well C9><Well D9><Well E9><Well F9><Well G9><Well H9>>\n",
      "Dispensing 200.0 at <WellSeries: <Well A5><Well B5><Well C5><Well D5><Well E5><Well F5><Well G5><Well H5>>\n",
      "Mixing 2 times with a volume of 75ul\n",
      "Aspirating 75 at <WellSeries: <Well A5><Well B5><Well C5><Well D5><Well E5><Well F5><Well G5><Well H5>>\n",
      "Dispensing 75.0 \n",
      "Aspirating 75 \n",
      "Dispensing 75.0 \n",
      "Drop_tip at <Deck><Slot B2><Container trash><Well A1>\n",
      "Picking up tip from <WellSeries: <Well A10><Well B10><Well C10><Well D10><Well E10><Well F10><Well G10><Well H10>>\n",
      "Aspirating 200.0 at <WellSeries: <Well A10><Well B10><Well C10><Well D10><Well E10><Well F10><Well G10><Well H10>>\n",
      "Dispensing 200.0 at <WellSeries: <Well A7><Well B7><Well C7><Well D7><Well E7><Well F7><Well G7><Well H7>>\n",
      "Mixing 2 times with a volume of 75ul\n",
      "Aspirating 75 at <WellSeries: <Well A7><Well B7><Well C7><Well D7><Well E7><Well F7><Well G7><Well H7>>\n",
      "Dispensing 75.0 \n",
      "Aspirating 75 \n",
      "Dispensing 75.0 \n",
      "Drop_tip at <Deck><Slot B2><Container trash><Well A1>\n",
      "Picking up tip from <WellSeries: <Well A11><Well B11><Well C11><Well D11><Well E11><Well F11><Well G11><Well H11>>\n",
      "Aspirating 200.0 at <WellSeries: <Well A11><Well B11><Well C11><Well D11><Well E11><Well F11><Well G11><Well H11>>\n",
      "Dispensing 200.0 at <WellSeries: <Well A9><Well B9><Well C9><Well D9><Well E9><Well F9><Well G9><Well H9>>\n",
      "Mixing 2 times with a volume of 75ul\n",
      "Aspirating 75 at <WellSeries: <Well A9><Well B9><Well C9><Well D9><Well E9><Well F9><Well G9><Well H9>>\n",
      "Dispensing 75.0 \n",
      "Aspirating 75 \n",
      "Dispensing 75.0 \n",
      "Drop_tip at <Deck><Slot B2><Container trash><Well A1>\n",
      "Picking up tip from <WellSeries: <Well A12><Well B12><Well C12><Well D12><Well E12><Well F12><Well G12><Well H12>>\n",
      "Aspirating 200.0 at <WellSeries: <Well A12><Well B12><Well C12><Well D12><Well E12><Well F12><Well G12><Well H12>>\n",
      "Dispensing 200.0 at <WellSeries: <Well A11><Well B11><Well C11><Well D11><Well E11><Well F11><Well G11><Well H11>>\n",
      "Mixing 2 times with a volume of 75ul\n",
      "Aspirating 75 at <WellSeries: <Well A11><Well B11><Well C11><Well D11><Well E11><Well F11><Well G11><Well H11>>\n",
      "Dispensing 75.0 \n",
      "Aspirating 75 \n",
      "Dispensing 75.0 \n",
      "Drop_tip at <Deck><Slot B2><Container trash><Well A1>\n"
     ]
    }
   ],
   "source": [
    "for c in robot.commands():# only for testing in jupyter\n",
    "    print(c)"
   ]
  },
  {
   "cell_type": "code",
   "execution_count": null,
   "metadata": {},
   "outputs": [],
   "source": []
  }
 ],
 "metadata": {
  "kernelspec": {
   "display_name": "Python 3",
   "language": "python",
   "name": "python3"
  },
  "language_info": {
   "codemirror_mode": {
    "name": "ipython",
    "version": 3
   },
   "file_extension": ".py",
   "mimetype": "text/x-python",
   "name": "python",
   "nbconvert_exporter": "python",
   "pygments_lexer": "ipython3",
   "version": "3.6.4"
  }
 },
 "nbformat": 4,
 "nbformat_minor": 2
}
